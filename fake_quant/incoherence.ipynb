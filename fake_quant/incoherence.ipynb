{
 "cells": [
  {
   "cell_type": "code",
   "execution_count": 1,
   "metadata": {},
   "outputs": [
    {
     "name": "stderr",
     "output_type": "stream",
     "text": [
      "/usr/local/lib/python3.10/dist-packages/tqdm/auto.py:21: TqdmWarning: IProgress not found. Please update jupyter and ipywidgets. See https://ipywidgets.readthedocs.io/en/stable/user_install.html\n",
      "  from .autonotebook import tqdm as notebook_tqdm\n"
     ]
    }
   ],
   "source": [
    "import torch\n",
    "import math\n",
    "from rotation_utils import get_orthogonal_matrix"
   ]
  },
  {
   "cell_type": "code",
   "execution_count": 2,
   "metadata": {},
   "outputs": [],
   "source": [
    "h = get_orthogonal_matrix(4096, 'hadamard', device='cuda')"
   ]
  },
  {
   "cell_type": "code",
   "execution_count": 3,
   "metadata": {},
   "outputs": [],
   "source": [
    "q = get_orthogonal_matrix(4096, 'random', device='cuda')"
   ]
  },
  {
   "cell_type": "code",
   "execution_count": null,
   "metadata": {},
   "outputs": [],
   "source": [
    "def compute_incoherence(x):\n",
    "    norm_fro = torch.norm(x, p='fro')\n",
    "    \n",
    "    rhs = norm_fro / math.sqrt(x.size(0) * x.size(1))\n",
    "    \n",
    "    L, V = torch.linalg.eig(x)\n",
    "    \n",
    "    "
   ]
  },
  {
   "cell_type": "code",
   "execution_count": 21,
   "metadata": {},
   "outputs": [],
   "source": [
    "norm_fro = torch.norm(q, p='fro')"
   ]
  },
  {
   "cell_type": "code",
   "execution_count": 22,
   "metadata": {},
   "outputs": [
    {
     "data": {
      "text/plain": [
       "tensor(64., device='cuda:0', dtype=torch.float64)"
      ]
     },
     "execution_count": 22,
     "metadata": {},
     "output_type": "execute_result"
    }
   ],
   "source": [
    "norm_fro"
   ]
  },
  {
   "cell_type": "code",
   "execution_count": 23,
   "metadata": {},
   "outputs": [],
   "source": [
    "norm_fro = torch.norm(h, p='fro')"
   ]
  },
  {
   "cell_type": "code",
   "execution_count": 24,
   "metadata": {},
   "outputs": [
    {
     "data": {
      "text/plain": [
       "tensor(64., device='cuda:0', dtype=torch.float64)"
      ]
     },
     "execution_count": 24,
     "metadata": {},
     "output_type": "execute_result"
    }
   ],
   "source": [
    "norm_fro"
   ]
  },
  {
   "cell_type": "code",
   "execution_count": 15,
   "metadata": {},
   "outputs": [],
   "source": [
    "with torch.no_grad():\n",
    "    L, V = torch.linalg.eig(q)"
   ]
  },
  {
   "cell_type": "code",
   "execution_count": 16,
   "metadata": {},
   "outputs": [
    {
     "data": {
      "text/plain": [
       "tensor([ 0.7078+0.7064j,  0.7078-0.7064j,  0.7094+0.7048j,  ...,\n",
       "        -0.9999-0.0135j, -0.9922+0.1250j, -0.9922-0.1250j], device='cuda:0',\n",
       "       dtype=torch.complex128)"
      ]
     },
     "execution_count": 16,
     "metadata": {},
     "output_type": "execute_result"
    }
   ],
   "source": [
    "L"
   ]
  },
  {
   "cell_type": "code",
   "execution_count": 17,
   "metadata": {},
   "outputs": [
    {
     "data": {
      "text/plain": [
       "tensor([1.0000, 1.0000, 1.0000,  ..., 1.0000, 1.0000, 1.0000], device='cuda:0',\n",
       "       dtype=torch.float64)"
      ]
     },
     "execution_count": 17,
     "metadata": {},
     "output_type": "execute_result"
    }
   ],
   "source": [
    "L.real ** 2 + L.imag ** 2"
   ]
  },
  {
   "cell_type": "code",
   "execution_count": 5,
   "metadata": {},
   "outputs": [
    {
     "data": {
      "text/plain": [
       "torch.Size([4096])"
      ]
     },
     "execution_count": 5,
     "metadata": {},
     "output_type": "execute_result"
    }
   ],
   "source": [
    "L.size()"
   ]
  },
  {
   "cell_type": "code",
   "execution_count": 6,
   "metadata": {},
   "outputs": [
    {
     "data": {
      "text/plain": [
       "torch.Size([4096, 4096])"
      ]
     },
     "execution_count": 6,
     "metadata": {},
     "output_type": "execute_result"
    }
   ],
   "source": [
    "V.size()"
   ]
  },
  {
   "cell_type": "code",
   "execution_count": 7,
   "metadata": {},
   "outputs": [],
   "source": [
    "dL = torch.diag(L)"
   ]
  },
  {
   "cell_type": "code",
   "execution_count": 8,
   "metadata": {},
   "outputs": [],
   "source": [
    "Vinv = torch.linalg.inv(V)"
   ]
  },
  {
   "cell_type": "code",
   "execution_count": 9,
   "metadata": {},
   "outputs": [],
   "source": [
    "VdL = torch.matmul(V, dL)"
   ]
  },
  {
   "cell_type": "code",
   "execution_count": 10,
   "metadata": {},
   "outputs": [],
   "source": [
    "VdLVinv = torch.matmul(VdL, Vinv)"
   ]
  },
  {
   "cell_type": "code",
   "execution_count": 12,
   "metadata": {},
   "outputs": [
    {
     "data": {
      "text/plain": [
       "tensor([[ 4.1633e-15+4.6478e-16j, -9.8532e-16+4.8217e-16j,\n",
       "         -1.4433e-15-1.6143e-15j,  ...,\n",
       "         -6.9389e-16+5.5129e-16j, -1.1900e-15+1.3475e-15j,\n",
       "          8.2746e-16+4.6073e-16j],\n",
       "        [-9.9573e-16+1.4617e-15j,  1.5907e-15+1.1424e-15j,\n",
       "          9.0553e-16+5.3963e-16j,  ...,\n",
       "         -8.0491e-16+1.9523e-15j, -1.8006e-15+2.0766e-18j,\n",
       "         -3.1919e-16+1.4188e-15j],\n",
       "        [ 9.5757e-16-2.5200e-15j, -5.7593e-16-1.9049e-16j,\n",
       "         -1.8839e-15+9.9399e-16j,  ...,\n",
       "         -1.5613e-17-1.5832e-15j,  1.0859e-15+2.2876e-17j,\n",
       "          3.3463e-15+3.7337e-15j],\n",
       "        ...,\n",
       "        [ 7.6848e-16-9.6640e-16j,  8.9512e-16-4.8929e-17j,\n",
       "         -4.9613e-16-5.3368e-16j,  ...,\n",
       "          1.7174e-15-2.7426e-16j,  6.4011e-16-2.0772e-16j,\n",
       "          3.0982e-15+4.6330e-16j],\n",
       "        [ 5.8287e-16+2.4279e-16j, -2.2551e-15+1.8124e-15j,\n",
       "         -9.0206e-17+3.7313e-16j,  ...,\n",
       "         -2.1528e-15-3.0398e-16j,  7.9624e-16+7.9023e-16j,\n",
       "         -9.9573e-16+8.5313e-16j],\n",
       "        [ 1.6289e-15-6.2697e-18j,  1.9013e-15+1.0885e-15j,\n",
       "         -1.4121e-15-1.0961e-15j,  ...,\n",
       "          5.5650e-15-9.2074e-16j, -1.6306e-16-1.3969e-16j,\n",
       "          3.7140e-15+9.3702e-16j]], device='cuda:0', dtype=torch.complex128)"
      ]
     },
     "execution_count": 12,
     "metadata": {},
     "output_type": "execute_result"
    }
   ],
   "source": [
    "h - VdLVinv"
   ]
  },
  {
   "cell_type": "code",
   "execution_count": 18,
   "metadata": {},
   "outputs": [],
   "source": [
    "with torch.no_grad():\n",
    "    L = torch.linalg.eigvals(q)"
   ]
  },
  {
   "cell_type": "code",
   "execution_count": 19,
   "metadata": {},
   "outputs": [
    {
     "data": {
      "text/plain": [
       "tensor([ 0.6858+0.7278j,  0.6858-0.7278j,  0.6895+0.7243j,  ...,\n",
       "        -0.9999-0.0135j, -0.9922+0.1250j, -0.9922-0.1250j], device='cuda:0',\n",
       "       dtype=torch.complex128)"
      ]
     },
     "execution_count": 19,
     "metadata": {},
     "output_type": "execute_result"
    }
   ],
   "source": [
    "L"
   ]
  },
  {
   "cell_type": "code",
   "execution_count": null,
   "metadata": {},
   "outputs": [],
   "source": []
  }
 ],
 "metadata": {
  "kernelspec": {
   "display_name": "Python 3",
   "language": "python",
   "name": "python3"
  },
  "language_info": {
   "codemirror_mode": {
    "name": "ipython",
    "version": 3
   },
   "file_extension": ".py",
   "mimetype": "text/x-python",
   "name": "python",
   "nbconvert_exporter": "python",
   "pygments_lexer": "ipython3",
   "version": "3.10.12"
  }
 },
 "nbformat": 4,
 "nbformat_minor": 2
}
